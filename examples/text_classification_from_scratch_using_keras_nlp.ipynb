https://colab.research.google.com/github/amangupta201/keras-nlp/blob/master/text_classification_from_scratch_using_keras_nlp.ipynb
