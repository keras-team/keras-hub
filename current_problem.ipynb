{
 "cells": [
  {
   "cell_type": "code",
   "execution_count": 1,
   "id": "ceef28f5-6544-41de-9a02-b26e0256a4d5",
   "metadata": {},
   "outputs": [],
   "source": [
    "# Imports\n",
    "import keras\n",
    "import keras_hub\n",
    "import math\n",
    "import numpy as np\n",
    "import PIL\n",
    "import timm\n",
    "import torch\n",
    "import torch.nn as nn"
   ]
  },
  {
   "cell_type": "code",
   "execution_count": 2,
   "id": "679b5162-7da7-4352-acb9-5244d568f0f2",
   "metadata": {},
   "outputs": [],
   "source": [
    "# Define presets\n",
    "PRESET_MAP = {\n",
    "    \"enet_b0_ra\": \"timm/efficientnet_b0.ra_in1k\",\n",
    "    \"enet_b1_ft\": \"timm/efficientnet_b1.ft_in1k\",\n",
    "    \"enet_b1_pruned\": \"timm/efficientnet_b1_pruned.in1k\",\n",
    "    \"enet_b2_ra\": \"timm/efficientnet_b2.ra_in1k\",\n",
    "    \"enet_b2_pruned\": \"timm/efficientnet_b2_pruned.in1k\",\n",
    "    \"enet_b3_ra2\": \"timm/efficientnet_b3.ra2_in1k\",\n",
    "    \"enet_b3_pruned\": \"timm/efficientnet_b3_pruned.in1k\",\n",
    "    \"enet_b4_ra2\": \"timm/efficientnet_b4.ra2_in1k\",\n",
    "    \"enet_b5_sw\": \"timm/efficientnet_b5.sw_in12k\",\n",
    "    \"enet_b5_sw_ft\": \"timm/efficientnet_b5.sw_in12k_ft_in1k\",\n",
    "    \"enet_el_ra\": \"timm/efficientnet_el.ra_in1k\",\n",
    "    \"enet_el_pruned\": \"timm/efficientnet_el_pruned.in1k\",\n",
    "    \"enet_em_ra2\": \"timm/efficientnet_em.ra2_in1k\",\n",
    "    \"enet_es_ra\": \"timm/efficientnet_es.ra_in1k\",\n",
    "    \"enet_es_pruned\": \"timm/efficientnet_es_pruned.in1k\",\n",
    "    \"enet_b0_ra4_e3600_r224\": \"timm/efficientnet_b0.ra4_e3600_r224_in1k\",\n",
    "    \"enet_b1_ra4_e3600_r240\": \"timm/efficientnet_b1.ra4_e3600_r240_in1k\",\n",
    "    \"enet2_rw_m_agc\": \"timm/efficientnetv2_rw_m.agc_in1k\",\n",
    "    \"enet2_rw_s_ra2\": \"timm/efficientnetv2_rw_s.ra2_in1k\",\n",
    "    \"enet2_rw_t_ra2\": \"timm/efficientnetv2_rw_t.ra2_in1k\",\n",
    "}"
   ]
  },
  {
   "cell_type": "code",
   "execution_count": 3,
   "id": "1ccd40ad-2877-47ab-a4cf-0f9cd222f218",
   "metadata": {},
   "outputs": [],
   "source": [
    "# Convenience functions\n",
    "def channel_first_to_last(x):\n",
    "    return keras.ops.transpose(x, axes=(0, 2, 3, 1))\n",
    "\n",
    "def channel_last_to_first(x):\n",
    "    return keras.ops.transpose(x, axes=(0, 3, 1, 2))\n",
    "\n",
    "def keras_compute(x, layer, sublayer_names):\n",
    "    for name in sublayer_names:\n",
    "        x = layer.get_layer(name)(x)\n",
    "    return x\n",
    "\n",
    "def pt_compute(x, modules):\n",
    "    for module in modules:\n",
    "        x = module(x)\n",
    "    return x\n",
    "\n",
    "def compare_tensors(keras_tensor, timm_tensor, atol=1e-8):\n",
    "    return np.allclose(keras_tensor, channel_first_to_last(timm_tensor.detach().numpy()), atol)\n",
    "\n",
    "def compare_conv2D_kernels(keras_conv2D, pt_conv2D, atol=1e-8):\n",
    "    return np.allclose(np.transpose(pt_conv2D.weight.detach().numpy(), (2, 3, 1, 0)), keras_conv2D.get_weights()[0], atol)"
   ]
  },
  {
   "cell_type": "code",
   "execution_count": 4,
   "id": "6e125e2a-215a-419f-a9c3-7448ef7d0446",
   "metadata": {},
   "outputs": [],
   "source": [
    "# Create timm model & convert to keras_hub model\n",
    "timm_name = PRESET_MAP[\"enet_b0_ra\"]\n",
    "timm_model = timm.create_model(timm_name, pretrained=True)\n",
    "timm_model = timm_model.eval()\n",
    "keras_model = keras_hub.models.ImageClassifier.from_preset(\n",
    "    \"hf://\" + timm_name,\n",
    ")"
   ]
  },
  {
   "cell_type": "code",
   "execution_count": 5,
   "id": "d2fee253-e940-4599-8508-4405b6f1eba5",
   "metadata": {},
   "outputs": [],
   "source": [
    "# Load example image & Preprocess\n",
    "file = keras.utils.get_file(\n",
    "    origin=(\n",
    "        \"https://storage.googleapis.com/keras-cv/\"\n",
    "        \"models/paligemma/cow_beach_1.png\"\n",
    "    )\n",
    ")\n",
    "image = PIL.Image.open(file)\n",
    "batch = np.array([image])\n",
    "\n",
    "# Preprocessing.\n",
    "timm_batch = keras_model.preprocessor(batch)\n",
    "timm_batch = keras.ops.transpose(timm_batch, axes=(0, 3, 1, 2))\n",
    "timm_batch = keras.ops.cast(timm_batch, dtype=\"float32\")\n",
    "timm_batch = torch.from_numpy(np.array(timm_batch))\n",
    "\n",
    "batch = keras.ops.cast(batch, dtype=\"float32\")"
   ]
  },
  {
   "cell_type": "code",
   "execution_count": 6,
   "id": "4c4ce996-1048-4b6c-aea9-c00b246e58fc",
   "metadata": {},
   "outputs": [
    {
     "data": {
      "text/plain": [
       "True"
      ]
     },
     "execution_count": 6,
     "metadata": {},
     "output_type": "execute_result"
    }
   ],
   "source": [
    "# Check input tensor is the same\n",
    "np.allclose(batch, channel_first_to_last(timm_batch))"
   ]
  },
  {
   "cell_type": "code",
   "execution_count": 7,
   "id": "5c287390-6a28-4122-bef8-096a2c3b195d",
   "metadata": {},
   "outputs": [
    {
     "name": "stdout",
     "output_type": "stream",
     "text": [
      "\u001b[1m1/1\u001b[0m \u001b[32m━━━━━━━━━━━━━━━━━━━━\u001b[0m\u001b[37m\u001b[0m \u001b[1m1s\u001b[0m 719ms/step\n"
     ]
    }
   ],
   "source": [
    "# Inference full forward pass\n",
    "timm_outputs = timm_model(timm_batch).detach().numpy()\n",
    "timm_label = np.argmax(timm_outputs[0])\n",
    "\n",
    "keras_outputs = keras_model.predict(batch)\n",
    "keras_label = np.argmax(keras_outputs[0])"
   ]
  },
  {
   "cell_type": "code",
   "execution_count": 8,
   "id": "a3565ff5-1ee5-4b7d-9592-47f48ee97dde",
   "metadata": {},
   "outputs": [
    {
     "name": "stdout",
     "output_type": "stream",
     "text": [
      "🔶 Keras output: [ 1620.1848   2247.4805  -7034.3467  -3782.0728  -9877.553    1429.7053\n",
      "  2474.2737   9480.087    8330.119     782.66644]\n",
      "🔶 TIMM output: [ 754.8181  5853.823   3473.4465  4661.4194  2204.8643  1050.2249\n",
      " -368.87488  461.20947 -236.12665 -935.4804 ]\n",
      "🔶 Difference: 4179.8276\n",
      "🔶 Keras label: 512\n",
      "🔶 TIMM label: 391\n"
     ]
    }
   ],
   "source": [
    "# Results\n",
    "print(\"🔶 Keras output:\", keras_outputs[0, :10])\n",
    "print(\"🔶 TIMM output:\", timm_outputs[0, :10])\n",
    "print(\"🔶 Difference:\", np.mean(np.abs(keras_outputs - timm_outputs)))\n",
    "print(\"🔶 Keras label:\", keras_label)\n",
    "print(\"🔶 TIMM label:\", timm_label)"
   ]
  },
  {
   "cell_type": "code",
   "execution_count": 9,
   "id": "5a57b1bc-d164-44ff-944c-b7927a79c34d",
   "metadata": {},
   "outputs": [],
   "source": [
    "# Disection time\n",
    "# Take the input tensors and only go through the first layers\n",
    "keras_inter_tensor = keras_compute(batch, keras_model.backbone, [\"stem_conv_pad\", \"stem_conv\"])\n",
    "timm_inter_tensor = pt_compute(timm_batch, [timm_model.conv_stem])"
   ]
  },
  {
   "cell_type": "code",
   "execution_count": 10,
   "id": "c74f93dd-158d-46e9-84c6-5aaa2ce65b53",
   "metadata": {},
   "outputs": [
    {
     "data": {
      "text/plain": [
       "True"
      ]
     },
     "execution_count": 10,
     "metadata": {},
     "output_type": "execute_result"
    }
   ],
   "source": [
    "# Are the kernels the same?\n",
    "compare_conv2D_kernels(keras_model.backbone.get_layer(\"stem_conv\"), timm_model.conv_stem)"
   ]
  },
  {
   "cell_type": "code",
   "execution_count": 11,
   "id": "d3cb2a39-a58f-4122-8714-f98bd6820756",
   "metadata": {},
   "outputs": [
    {
     "ename": "ValueError",
     "evalue": "operands could not be broadcast together with shapes (1,113,113,32) (1,112,112,32) ",
     "output_type": "error",
     "traceback": [
      "\u001b[0;31m---------------------------------------------------------------------------\u001b[0m",
      "\u001b[0;31mValueError\u001b[0m                                Traceback (most recent call last)",
      "Cell \u001b[0;32mIn[11], line 2\u001b[0m\n\u001b[1;32m      1\u001b[0m \u001b[38;5;66;03m# Are the intermediate tensors the same?\u001b[39;00m\n\u001b[0;32m----> 2\u001b[0m \u001b[43mcompare_tensors\u001b[49m\u001b[43m(\u001b[49m\u001b[43mkeras_inter_tensor\u001b[49m\u001b[43m,\u001b[49m\u001b[43m \u001b[49m\u001b[43mtimm_inter_tensor\u001b[49m\u001b[43m)\u001b[49m\n",
      "Cell \u001b[0;32mIn[3], line 19\u001b[0m, in \u001b[0;36mcompare_tensors\u001b[0;34m(keras_tensor, timm_tensor, atol)\u001b[0m\n\u001b[1;32m     18\u001b[0m \u001b[38;5;28;01mdef\u001b[39;00m \u001b[38;5;21mcompare_tensors\u001b[39m(keras_tensor, timm_tensor, atol\u001b[38;5;241m=\u001b[39m\u001b[38;5;241m1e-8\u001b[39m):\n\u001b[0;32m---> 19\u001b[0m     \u001b[38;5;28;01mreturn\u001b[39;00m \u001b[43mnp\u001b[49m\u001b[38;5;241;43m.\u001b[39;49m\u001b[43mallclose\u001b[49m\u001b[43m(\u001b[49m\u001b[43mkeras_tensor\u001b[49m\u001b[43m,\u001b[49m\u001b[43m \u001b[49m\u001b[43mchannel_first_to_last\u001b[49m\u001b[43m(\u001b[49m\u001b[43mtimm_tensor\u001b[49m\u001b[38;5;241;43m.\u001b[39;49m\u001b[43mdetach\u001b[49m\u001b[43m(\u001b[49m\u001b[43m)\u001b[49m\u001b[38;5;241;43m.\u001b[39;49m\u001b[43mnumpy\u001b[49m\u001b[43m(\u001b[49m\u001b[43m)\u001b[49m\u001b[43m)\u001b[49m\u001b[43m,\u001b[49m\u001b[43m \u001b[49m\u001b[43matol\u001b[49m\u001b[43m)\u001b[49m\n",
      "File \u001b[0;32m~/miniforge3/envs/keras_migration/lib/python3.10/site-packages/numpy/core/numeric.py:2241\u001b[0m, in \u001b[0;36mallclose\u001b[0;34m(a, b, rtol, atol, equal_nan)\u001b[0m\n\u001b[1;32m   2170\u001b[0m \u001b[38;5;129m@array_function_dispatch\u001b[39m(_allclose_dispatcher)\n\u001b[1;32m   2171\u001b[0m \u001b[38;5;28;01mdef\u001b[39;00m \u001b[38;5;21mallclose\u001b[39m(a, b, rtol\u001b[38;5;241m=\u001b[39m\u001b[38;5;241m1.e-5\u001b[39m, atol\u001b[38;5;241m=\u001b[39m\u001b[38;5;241m1.e-8\u001b[39m, equal_nan\u001b[38;5;241m=\u001b[39m\u001b[38;5;28;01mFalse\u001b[39;00m):\n\u001b[1;32m   2172\u001b[0m \u001b[38;5;250m    \u001b[39m\u001b[38;5;124;03m\"\"\"\u001b[39;00m\n\u001b[1;32m   2173\u001b[0m \u001b[38;5;124;03m    Returns True if two arrays are element-wise equal within a tolerance.\u001b[39;00m\n\u001b[1;32m   2174\u001b[0m \n\u001b[0;32m   (...)\u001b[0m\n\u001b[1;32m   2239\u001b[0m \n\u001b[1;32m   2240\u001b[0m \u001b[38;5;124;03m    \"\"\"\u001b[39;00m\n\u001b[0;32m-> 2241\u001b[0m     res \u001b[38;5;241m=\u001b[39m \u001b[38;5;28mall\u001b[39m(\u001b[43misclose\u001b[49m\u001b[43m(\u001b[49m\u001b[43ma\u001b[49m\u001b[43m,\u001b[49m\u001b[43m \u001b[49m\u001b[43mb\u001b[49m\u001b[43m,\u001b[49m\u001b[43m \u001b[49m\u001b[43mrtol\u001b[49m\u001b[38;5;241;43m=\u001b[39;49m\u001b[43mrtol\u001b[49m\u001b[43m,\u001b[49m\u001b[43m \u001b[49m\u001b[43matol\u001b[49m\u001b[38;5;241;43m=\u001b[39;49m\u001b[43matol\u001b[49m\u001b[43m,\u001b[49m\u001b[43m \u001b[49m\u001b[43mequal_nan\u001b[49m\u001b[38;5;241;43m=\u001b[39;49m\u001b[43mequal_nan\u001b[49m\u001b[43m)\u001b[49m)\n\u001b[1;32m   2242\u001b[0m     \u001b[38;5;28;01mreturn\u001b[39;00m \u001b[38;5;28mbool\u001b[39m(res)\n",
      "File \u001b[0;32m~/miniforge3/envs/keras_migration/lib/python3.10/site-packages/numpy/core/numeric.py:2351\u001b[0m, in \u001b[0;36misclose\u001b[0;34m(a, b, rtol, atol, equal_nan)\u001b[0m\n\u001b[1;32m   2349\u001b[0m yfin \u001b[38;5;241m=\u001b[39m isfinite(y)\n\u001b[1;32m   2350\u001b[0m \u001b[38;5;28;01mif\u001b[39;00m \u001b[38;5;28mall\u001b[39m(xfin) \u001b[38;5;129;01mand\u001b[39;00m \u001b[38;5;28mall\u001b[39m(yfin):\n\u001b[0;32m-> 2351\u001b[0m     \u001b[38;5;28;01mreturn\u001b[39;00m \u001b[43mwithin_tol\u001b[49m\u001b[43m(\u001b[49m\u001b[43mx\u001b[49m\u001b[43m,\u001b[49m\u001b[43m \u001b[49m\u001b[43my\u001b[49m\u001b[43m,\u001b[49m\u001b[43m \u001b[49m\u001b[43matol\u001b[49m\u001b[43m,\u001b[49m\u001b[43m \u001b[49m\u001b[43mrtol\u001b[49m\u001b[43m)\u001b[49m\n\u001b[1;32m   2352\u001b[0m \u001b[38;5;28;01melse\u001b[39;00m:\n\u001b[1;32m   2353\u001b[0m     finite \u001b[38;5;241m=\u001b[39m xfin \u001b[38;5;241m&\u001b[39m yfin\n",
      "File \u001b[0;32m~/miniforge3/envs/keras_migration/lib/python3.10/site-packages/numpy/core/numeric.py:2332\u001b[0m, in \u001b[0;36misclose.<locals>.within_tol\u001b[0;34m(x, y, atol, rtol)\u001b[0m\n\u001b[1;32m   2330\u001b[0m \u001b[38;5;28;01mdef\u001b[39;00m \u001b[38;5;21mwithin_tol\u001b[39m(x, y, atol, rtol):\n\u001b[1;32m   2331\u001b[0m     \u001b[38;5;28;01mwith\u001b[39;00m errstate(invalid\u001b[38;5;241m=\u001b[39m\u001b[38;5;124m'\u001b[39m\u001b[38;5;124mignore\u001b[39m\u001b[38;5;124m'\u001b[39m), _no_nep50_warning():\n\u001b[0;32m-> 2332\u001b[0m         \u001b[38;5;28;01mreturn\u001b[39;00m less_equal(\u001b[38;5;28mabs\u001b[39m(\u001b[43mx\u001b[49m\u001b[38;5;241;43m-\u001b[39;49m\u001b[43my\u001b[49m), atol \u001b[38;5;241m+\u001b[39m rtol \u001b[38;5;241m*\u001b[39m \u001b[38;5;28mabs\u001b[39m(y))\n",
      "\u001b[0;31mValueError\u001b[0m: operands could not be broadcast together with shapes (1,113,113,32) (1,112,112,32) "
     ]
    }
   ],
   "source": [
    "# Are the intermediate tensors the same?\n",
    "compare_tensors(keras_inter_tensor, timm_inter_tensor)"
   ]
  },
  {
   "cell_type": "code",
   "execution_count": 12,
   "id": "efe66f20-065e-4d28-883c-ccb65648250d",
   "metadata": {},
   "outputs": [
    {
     "data": {
      "text/plain": [
       "<tf.Tensor: shape=(1, 113, 113, 32), dtype=float32, numpy=\n",
       "array([[[[-6.90355652e+02, -9.22706909e+02, -2.55646973e+02, ...,\n",
       "           3.65845520e+02, -2.06023769e+01, -2.87541412e+02],\n",
       "         [-7.27479492e+02, -1.38209457e+01, -2.59368225e+02, ...,\n",
       "           3.78148956e+02,  1.32786036e+00, -3.44223114e+02],\n",
       "         [-7.28762451e+02, -1.35537834e+01, -2.60155396e+02, ...,\n",
       "           3.78620239e+02,  4.03245783e+00, -3.46049500e+02],\n",
       "         ...,\n",
       "         [-5.42898560e+02, -9.79613781e+00, -1.91869919e+02, ...,\n",
       "           2.74462280e+02, -3.88873196e+00, -4.65800751e+02],\n",
       "         [-5.41980225e+02, -1.18839827e+01, -1.91713654e+02, ...,\n",
       "           2.74291321e+02,  4.37592506e-01, -4.65262207e+02],\n",
       "         [-2.51835957e+01,  6.79348877e+02, -5.76185751e+00, ...,\n",
       "           7.05634069e+00,  2.23309612e+01, -8.57044830e+01]],\n",
       "\n",
       "        [[-3.22593069e+00, -9.86635864e+02, -9.67449093e+00, ...,\n",
       "           5.15525696e+02, -2.16028042e+01, -3.41197510e+02],\n",
       "         [-2.59661555e+00,  4.18477106e+00, -5.59823132e+00, ...,\n",
       "           5.23831848e+02,  6.34101200e+00, -4.19178070e+02],\n",
       "         [-3.09883571e+00,  4.01066446e+00, -5.92733955e+00, ...,\n",
       "           5.24997925e+02,  6.37313175e+00, -4.20714600e+02],\n",
       "         ...,\n",
       "         [ 6.31386232e+00, -4.83738136e+00, -1.31899250e+00, ...,\n",
       "           3.81073914e+02,  4.13267803e+00, -5.80155762e+02],\n",
       "         [ 5.29110813e+00,  9.18830204e+00, -1.44692564e+00, ...,\n",
       "           3.80285767e+02,  8.97463608e+00, -5.78428345e+02],\n",
       "         [-6.54264808e-01,  7.28378174e+02, -1.98834610e+00, ...,\n",
       "           4.09623814e+00,  2.24655323e+01, -1.16574280e+02]],\n",
       "\n",
       "        [[-6.00756931e+00, -9.99624451e+02, -1.08382511e+01, ...,\n",
       "           5.18270081e+02, -3.05513153e+01, -3.41292938e+02],\n",
       "         [-2.44541240e+00,  4.65716791e+00, -5.65690565e+00, ...,\n",
       "           5.25952026e+02,  7.06958866e+00, -4.19108795e+02],\n",
       "         [-2.29133296e+00,  3.83851480e+00, -5.79203606e+00, ...,\n",
       "           5.27987793e+02,  5.34917545e+00, -4.21246429e+02],\n",
       "         ...,\n",
       "         [ 2.02838683e+00, -5.65319252e+00, -2.58140898e+00, ...,\n",
       "           3.74801758e+02, -4.59492207e+00, -5.82370300e+02],\n",
       "         [ 4.76385736e+00,  6.73602486e+00, -1.25966156e+00, ...,\n",
       "           3.72695557e+02,  7.88077068e+00, -5.81695496e+02],\n",
       "         [-3.43430638e-01,  7.23050781e+02, -2.14509273e+00, ...,\n",
       "           3.93234110e+00,  2.21313820e+01, -1.17703217e+02]],\n",
       "\n",
       "        ...,\n",
       "\n",
       "        [[-2.06711388e+00, -1.28715076e+03, -2.28775272e+01, ...,\n",
       "           6.78300171e+02, -4.80978851e+01,  6.45318365e+00],\n",
       "         [-1.09262657e+00,  2.17161255e+01, -7.19779587e+00, ...,\n",
       "           6.78386047e+02, -4.58231354e+00,  2.69503078e+01],\n",
       "         [ 7.65009451e+00,  1.82897949e+01, -3.74421453e+00, ...,\n",
       "           6.67948975e+02, -7.04654932e+00,  2.48320026e+01],\n",
       "         ...,\n",
       "         [ 7.33004379e+01, -5.40156794e+00,  1.52095451e+01, ...,\n",
       "           8.73833801e+02, -3.33579132e+02,  1.01079674e+02],\n",
       "         [ 5.66180496e+01,  1.26462326e+02,  1.35253744e+01, ...,\n",
       "           7.57299500e+02,  3.67409058e+01,  1.45001953e+02],\n",
       "         [ 4.42789507e+00,  1.32173376e+03,  2.02719040e+01, ...,\n",
       "           9.37890148e+00,  3.53926506e+01,  5.39470329e+01]],\n",
       "\n",
       "        [[ 4.19495468e+01, -1.21193958e+03, -5.36234617e+00, ...,\n",
       "           6.49229614e+02, -2.97231865e+01,  5.79273272e+00],\n",
       "         [ 1.21069040e+01,  9.89661026e+00, -2.15827179e+00, ...,\n",
       "           6.52049316e+02, -4.53066540e+00,  2.09433289e+01],\n",
       "         [ 5.23037100e+00,  9.62934113e+00, -4.62898779e+00, ...,\n",
       "           6.43571655e+02, -2.08034382e+01,  4.95825005e+01],\n",
       "         ...,\n",
       "         [ 8.50271835e+01, -1.10652283e+02,  2.59274178e+01, ...,\n",
       "           6.70723450e+02, -4.58162323e+02,  1.32293091e+02],\n",
       "         [ 1.50747437e+02,  1.38544434e+02,  5.15230446e+01, ...,\n",
       "           5.80762878e+02,  2.35333221e+02,  1.40522141e+02],\n",
       "         [ 1.44720659e+01,  1.26552930e+03,  1.93868275e+01, ...,\n",
       "           6.35009098e+00,  2.92651043e+01,  5.02644539e+01]],\n",
       "\n",
       "        [[ 8.38121704e+02, -7.34068222e+01,  3.02949432e+02, ...,\n",
       "           1.83717896e+02,  3.04948258e+00,  1.08845577e+01],\n",
       "         [ 8.72035522e+02,  2.20161991e+01,  3.09289520e+02, ...,\n",
       "           1.73226944e+02, -1.48774159e+00,  1.30252905e+01],\n",
       "         [ 8.50235107e+02,  2.17351685e+01,  3.02217987e+02, ...,\n",
       "           1.68603561e+02, -1.45707130e+00,  2.21589184e+01],\n",
       "         ...,\n",
       "         [ 1.07663013e+03,  1.79432240e+01,  3.83671082e+02, ...,\n",
       "           2.10563339e+02, -1.09598598e+01,  3.80578651e+01],\n",
       "         [ 1.04262756e+03,  2.43897762e+01,  3.71404266e+02, ...,\n",
       "           2.08606934e+02,  7.47299671e-01,  3.64905968e+01],\n",
       "         [ 5.28185043e+01,  1.14414192e+02,  1.14283037e+01, ...,\n",
       "          -8.50425720e+00, -4.41137648e+00,  7.94050550e+00]]]],\n",
       "      dtype=float32)>"
      ]
     },
     "execution_count": 12,
     "metadata": {},
     "output_type": "execute_result"
    }
   ],
   "source": [
    "# different shape but close... let's look at them\n",
    "keras_inter_tensor"
   ]
  },
  {
   "cell_type": "code",
   "execution_count": 15,
   "id": "41023043-ee18-4144-bb39-7e1561ca0ef3",
   "metadata": {},
   "outputs": [
    {
     "data": {
      "text/plain": [
       "<tf.Tensor: shape=(1, 112, 112, 32), dtype=float32, numpy=\n",
       "array([[[[-6.90355591e+02, -9.22706848e+02, -2.55646988e+02, ...,\n",
       "           3.65845551e+02, -2.06023769e+01, -2.87541412e+02],\n",
       "         [-7.27479553e+02, -1.38209381e+01, -2.59368225e+02, ...,\n",
       "           3.78149017e+02,  1.32786036e+00, -3.44223114e+02],\n",
       "         [-7.28762573e+02, -1.35537720e+01, -2.60155396e+02, ...,\n",
       "           3.78620270e+02,  4.03246546e+00, -3.46049469e+02],\n",
       "         ...,\n",
       "         [-5.49251343e+02, -1.55145330e+01, -1.94512436e+02, ...,\n",
       "           2.77907166e+02, -2.19626427e-01, -4.65813965e+02],\n",
       "         [-5.42898621e+02, -9.79614162e+00, -1.91869934e+02, ...,\n",
       "           2.74462250e+02, -3.88874722e+00, -4.65800751e+02],\n",
       "         [-5.41980225e+02, -1.18840094e+01, -1.91713654e+02, ...,\n",
       "           2.74291321e+02,  4.37561989e-01, -4.65262207e+02]],\n",
       "\n",
       "        [[-3.22582960e+00, -9.86635864e+02, -9.67446423e+00, ...,\n",
       "           5.15525757e+02, -2.16027431e+01, -3.41197510e+02],\n",
       "         [-2.59651923e+00,  4.18476725e+00, -5.59824467e+00, ...,\n",
       "           5.23831848e+02,  6.34099674e+00, -4.19178070e+02],\n",
       "         [-3.09873557e+00,  4.01067209e+00, -5.92736673e+00, ...,\n",
       "           5.24997986e+02,  6.37310886e+00, -4.20714569e+02],\n",
       "         ...,\n",
       "         [ 1.27575808e+01,  7.29644775e+00,  1.46807444e+00, ...,\n",
       "           3.77894623e+02,  3.39526629e+00, -5.80834656e+02],\n",
       "         [ 6.31380320e+00, -4.83736229e+00, -1.31898677e+00, ...,\n",
       "           3.81073944e+02,  4.13268566e+00, -5.80155762e+02],\n",
       "         [ 5.29109859e+00,  9.18828678e+00, -1.44690704e+00, ...,\n",
       "           3.80285767e+02,  8.97464371e+00, -5.78428284e+02]],\n",
       "\n",
       "        [[-6.00753784e+00, -9.99624329e+02, -1.08382549e+01, ...,\n",
       "           5.18270081e+02, -3.05513458e+01, -3.41292969e+02],\n",
       "         [-2.44535804e+00,  4.65717173e+00, -5.65694046e+00, ...,\n",
       "           5.25952026e+02,  7.06958866e+00, -4.19108765e+02],\n",
       "         [-2.29127097e+00,  3.83853769e+00, -5.79202747e+00, ...,\n",
       "           5.27987793e+02,  5.34921360e+00, -4.21246460e+02],\n",
       "         ...,\n",
       "         [ 2.26290488e+00,  1.21845675e+01, -1.92424953e+00, ...,\n",
       "           3.71956390e+02,  1.01109915e+01, -5.88988159e+02],\n",
       "         [ 2.02837157e+00, -5.65321159e+00, -2.58140945e+00, ...,\n",
       "           3.74801758e+02, -4.59496784e+00, -5.82370300e+02],\n",
       "         [ 4.76392984e+00,  6.73603821e+00, -1.25964487e+00, ...,\n",
       "           3.72695557e+02,  7.88076305e+00, -5.81695496e+02]],\n",
       "\n",
       "        ...,\n",
       "\n",
       "        [[ 6.94899988e+00, -1.26567883e+03, -1.84326630e+01, ...,\n",
       "           6.62076599e+02, -4.04340744e+01,  4.39146328e+00],\n",
       "         [ 1.53500681e+01,  1.10170193e+01, -6.90323472e-01, ...,\n",
       "           6.68833984e+02,  7.57214308e-01,  2.75946445e+01],\n",
       "         [ 4.29229259e+00,  3.51007414e+00, -5.08478212e+00, ...,\n",
       "           6.75995911e+02,  6.28842640e+00,  2.92425785e+01],\n",
       "         ...,\n",
       "         [-9.08829749e-01, -2.94725098e+02, -1.75925655e+01, ...,\n",
       "           9.43630005e+02,  3.16820183e+01, -5.28702660e+01],\n",
       "         [-5.13742065e+00, -1.85736809e+01, -1.23115721e+01, ...,\n",
       "           9.51118103e+02, -1.24066858e+01,  7.27310638e+01],\n",
       "         [-1.36881363e+02,  3.79641602e+02, -4.60459900e+01, ...,\n",
       "           5.86319275e+02, -1.46899338e+02,  1.27075760e+02]],\n",
       "\n",
       "        [[-2.06706429e+00, -1.28715100e+03, -2.28775444e+01, ...,\n",
       "           6.78300232e+02, -4.80978699e+01,  6.45313787e+00],\n",
       "         [-1.09275055e+00,  2.17160797e+01, -7.19777012e+00, ...,\n",
       "           6.78386108e+02, -4.58240509e+00,  2.69503536e+01],\n",
       "         [ 7.65004873e+00,  1.82898407e+01, -3.74424314e+00, ...,\n",
       "           6.67948914e+02, -7.04659510e+00,  2.48321476e+01],\n",
       "         ...,\n",
       "         [-3.64874916e+01,  5.98783493e+01, -2.17095413e+01, ...,\n",
       "           9.34649597e+02,  3.53217087e+01,  5.86235962e+01],\n",
       "         [ 7.33004379e+01, -5.40158319e+00,  1.52095051e+01, ...,\n",
       "           8.73833862e+02, -3.33579041e+02,  1.01079567e+02],\n",
       "         [ 5.66181259e+01,  1.26462387e+02,  1.35253477e+01, ...,\n",
       "           7.57299500e+02,  3.67408714e+01,  1.45002121e+02]],\n",
       "\n",
       "        [[ 4.19495430e+01, -1.21193945e+03, -5.36237240e+00, ...,\n",
       "           6.49229614e+02, -2.97232323e+01,  5.79273272e+00],\n",
       "         [ 1.21069403e+01,  9.89653206e+00, -2.15826631e+00, ...,\n",
       "           6.52049377e+02, -4.53062725e+00,  2.09435425e+01],\n",
       "         [ 5.23031759e+00,  9.62931824e+00, -4.62901974e+00, ...,\n",
       "           6.43571594e+02, -2.08034382e+01,  4.95825768e+01],\n",
       "         ...,\n",
       "         [ 1.12861969e+02,  3.15418892e+01,  3.17781296e+01, ...,\n",
       "           8.60431274e+02, -3.62303848e+01,  1.22931808e+02],\n",
       "         [ 8.50271225e+01, -1.10652328e+02,  2.59274063e+01, ...,\n",
       "           6.70723572e+02, -4.58162384e+02,  1.32293015e+02],\n",
       "         [ 1.50747406e+02,  1.38544434e+02,  5.15229950e+01, ...,\n",
       "           5.80762939e+02,  2.35333237e+02,  1.40522125e+02]]]],\n",
       "      dtype=float32)>"
      ]
     },
     "execution_count": 15,
     "metadata": {},
     "output_type": "execute_result"
    }
   ],
   "source": [
    "# and the timm one\n",
    "channel_first_to_last(timm_inter_tensor.detach().numpy())"
   ]
  },
  {
   "cell_type": "code",
   "execution_count": 15,
   "id": "21be844e-629b-4d17-99b1-bf07c7d4b146",
   "metadata": {},
   "outputs": [
    {
     "data": {
      "text/plain": [
       "False"
      ]
     },
     "execution_count": 15,
     "metadata": {},
     "output_type": "execute_result"
    }
   ],
   "source": [
    "# Looks the same but different shape... likely due to conversion from PT Conv2D parameters not aligning with Keras Conv2D parameters\n",
    "# Specifically padding = (1, 1) in PT does not align exactly with padding = \"same\" or \"valid\" with the manual \"stem_conv_pad\" added.\n",
    "# There should be a general form of padding = (x, x) in PT -> Keras parameters for padding and potentially a manual zero pad, depending on\n",
    "# parameters (like stride, input shape and the padding values) <-- may not be exhaustive but these are the likely culprits."
   ]
  }
 ],
 "metadata": {
  "kernelspec": {
   "display_name": "Python 3 (ipykernel)",
   "language": "python",
   "name": "python3"
  },
  "language_info": {
   "codemirror_mode": {
    "name": "ipython",
    "version": 3
   },
   "file_extension": ".py",
   "mimetype": "text/x-python",
   "name": "python",
   "nbconvert_exporter": "python",
   "pygments_lexer": "ipython3",
   "version": "3.10.14"
  }
 },
 "nbformat": 4,
 "nbformat_minor": 5
}
